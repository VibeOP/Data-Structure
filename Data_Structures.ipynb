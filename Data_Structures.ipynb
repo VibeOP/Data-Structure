{
  "nbformat": 4,
  "nbformat_minor": 0,
  "metadata": {
    "colab": {
      "provenance": []
    },
    "kernelspec": {
      "name": "python3",
      "display_name": "Python 3"
    },
    "language_info": {
      "name": "python"
    }
  },
  "cells": [
    {
      "cell_type": "code",
      "execution_count": null,
      "metadata": {
        "id": "HB4NbxTvIvVv"
      },
      "outputs": [],
      "source": [
        "#Data Structures\n",
        "#Theoretical Questions"
      ]
    },
    {
      "cell_type": "code",
      "source": [
        "\"\"\"\n",
        "1.What are data structures, and why are they important?\n",
        " >> Data structures are ways to store and organize data. They help make our code easier and faster.\n",
        "\n",
        "2. Explain the difference between mutable and immutable data types with examples.\n",
        " >> Mutable means we can change the data (like a list). Immutable means we can’t change it (like a tuple).\n",
        "\n",
        "3. What are the main differences between lists and tuples in Python?\n",
        " >> Lists can be changed, but tuples can't. Lists use [] and tuples use ().\n",
        "\n",
        "4. Describe how dictionaries store data.\n",
        " >> Dictionaries store data using key and value pairs. Like a name and its meaning.\n",
        "\n",
        "5. Why might you use a set instead of a list in Python?\n",
        " >> Sets don’t allow duplicates and are faster for checking if something exists\n",
        "\n",
        "6. What is a string in Python, and how is it different from a list?\n",
        " >> A string is text, like \"hii\". A list can have anything, like numbers or strings. You can’t change a string but you can change a list.\n",
        "\n",
        "7. How do tuples ensure data integrity in Python?\n",
        " >> Tuples can’t be changed, so the data stays safe\n",
        "\n",
        "8. What is a hash table, and how does it relate to dictionaries in Python?\n",
        " >> A hash table helps store and find data quickly. Dictionaries use hash tables inside\n",
        "\n",
        "9. Can lists contain different data types in Python?\n",
        " >> Yes, lists can have numbers, text, or anything mixed together.\n",
        "\n",
        "10. Explain why strings are immutable in Python.\n",
        " >> Python keeps strings safe from changes. So once made, they can’t be changed.\n",
        "\n",
        "11. What advantages do dictionaries offer over lists for certain tasks?\n",
        " >> Dictionaries are better when we want to look things up by name or key.\n",
        "\n",
        "12. Describe a scenario where using a tuple would be preferable over a list.\n",
        " >> If you don’t want the data to change, like a person’s birth date, use a tuple.\n",
        "\n",
        "13. How do sets handle duplicate values in Python?\n",
        " >> Sets don’t allow duplicates. If you add the same thing again, it won’t be added\n",
        "\n",
        "14. How does the “in” keyword work differently for lists and dictionaries?\n",
        " >> In a list, it checks if a value exists. In a dictionary, it checks if a key exists.\n",
        "\n",
        "15. Can you modify the elements of a tuple? Explain why or why not.\n",
        " >> No, because tuples are immutable. Once made, we can’t change them\n",
        "\n",
        "16. What is a nested dictionary, and give an example of its use case?\n",
        " >> A nested dictionary means a dictionary inside another. It’s good for storing complex info like student records.\n",
        "\n",
        "17. Describe the time complexity of accessing elements in a dictionary.\n",
        " >> It’s fast — usually takes almost no time.\n",
        "\n",
        "18. In what situations are lists preferred over dictionaries?\n",
        " >> When we care about the order of items or don’t need keys\n",
        "\n",
        "19. Why are dictionaries considered unordered, and how does that affect data retrieval?\n",
        " >> They don’t keep things in the order we add them (at least in older Python). its pretty un-retrievable\n",
        "\n",
        "20. Explain the difference between a list and a dictionary in terms of data retrieval.\n",
        " >> In lists, we use index numbers to get items. In dictionaries, we use keys.\n",
        "\"\"\""
      ],
      "metadata": {
        "id": "1MYJrx5RJSyT"
      },
      "execution_count": null,
      "outputs": []
    },
    {
      "cell_type": "code",
      "source": [
        "#Practical Questions"
      ],
      "metadata": {
        "id": "dNc2RH-OK7n0"
      },
      "execution_count": null,
      "outputs": []
    },
    {
      "cell_type": "code",
      "source": [
        "#1. Write a code to create a string with your name and print it\n",
        "Name = \"Sahil\"\n",
        "print(Name)"
      ],
      "metadata": {
        "colab": {
          "base_uri": "https://localhost:8080/"
        },
        "id": "y7XL9mdIK_px",
        "outputId": "9eb7d5cf-ac62-4fd5-8f53-eaa144d90538"
      },
      "execution_count": 1,
      "outputs": [
        {
          "output_type": "stream",
          "name": "stdout",
          "text": [
            "Sahil\n"
          ]
        }
      ]
    },
    {
      "cell_type": "code",
      "source": [
        "#2. Write a code to find the length of the string \"Hello World\"\n",
        "t = \"Hello World\"\n",
        "print(len(t))"
      ],
      "metadata": {
        "colab": {
          "base_uri": "https://localhost:8080/"
        },
        "id": "m0vQA8ojMM7d",
        "outputId": "d418165d-1fa0-4517-ae72-48b43bb6e127"
      },
      "execution_count": 2,
      "outputs": [
        {
          "output_type": "stream",
          "name": "stdout",
          "text": [
            "11\n"
          ]
        }
      ]
    },
    {
      "cell_type": "code",
      "source": [
        "#3. Write a code to slice the first 3 characters from the string \"Python Programming\".\n",
        "s = \"Python Programming\"\n",
        "print(s[0:3])"
      ],
      "metadata": {
        "colab": {
          "base_uri": "https://localhost:8080/"
        },
        "id": "ZXfRTiDv6im-",
        "outputId": "49c29b2f-e698-48f1-eef2-e5d2470326cc"
      },
      "execution_count": 1,
      "outputs": [
        {
          "output_type": "stream",
          "name": "stdout",
          "text": [
            "Pyt\n"
          ]
        }
      ]
    },
    {
      "cell_type": "code",
      "source": [
        "#4. Write a code to convert the string \"hello\" to uppercase.\n",
        "s = \"hello\"\n",
        "print(s.upper())\n"
      ],
      "metadata": {
        "colab": {
          "base_uri": "https://localhost:8080/"
        },
        "id": "0a5UZeLH7PfZ",
        "outputId": "46df59f6-b3b6-481b-c5ac-a17afe060d21"
      },
      "execution_count": 5,
      "outputs": [
        {
          "output_type": "stream",
          "name": "stdout",
          "text": [
            "HELLO\n"
          ]
        }
      ]
    },
    {
      "cell_type": "code",
      "source": [
        "#5. Write a code to replace the word \"apple\" with \"orange\" in the string \"I like apple\".\n",
        "s = \"I like apple\"\n",
        "print(s.replace(\"apple\", \"orange\"))\n"
      ],
      "metadata": {
        "colab": {
          "base_uri": "https://localhost:8080/"
        },
        "id": "G8xOHvU78JTR",
        "outputId": "d9584ae3-55d6-43e2-b23b-ad27abdd5244"
      },
      "execution_count": 6,
      "outputs": [
        {
          "output_type": "stream",
          "name": "stdout",
          "text": [
            "I like orange\n"
          ]
        }
      ]
    },
    {
      "cell_type": "code",
      "source": [
        "#6. Write a code to create a list with numbers 1 to 5 and print it.\n",
        "s = [1,2,3,4,5]\n",
        "print(s)"
      ],
      "metadata": {
        "colab": {
          "base_uri": "https://localhost:8080/"
        },
        "id": "t0CsgbFh8aEH",
        "outputId": "6978e5b2-5331-4076-b8d2-a340977419f8"
      },
      "execution_count": 7,
      "outputs": [
        {
          "output_type": "stream",
          "name": "stdout",
          "text": [
            "[1, 2, 3, 4, 5]\n"
          ]
        }
      ]
    },
    {
      "cell_type": "code",
      "source": [
        "#7. Write a code to append the number 10 to the list [1, 2, 3, 4].\n",
        "s= [1, 2, 3, 4]\n",
        "s.append(10)\n",
        "print(s)"
      ],
      "metadata": {
        "colab": {
          "base_uri": "https://localhost:8080/"
        },
        "id": "PTRxlYvw8oub",
        "outputId": "b2982775-ecb6-4c4a-92a2-eb34e7029b3a"
      },
      "execution_count": 9,
      "outputs": [
        {
          "output_type": "stream",
          "name": "stdout",
          "text": [
            "[1, 2, 3, 4, 10]\n"
          ]
        }
      ]
    },
    {
      "cell_type": "code",
      "source": [
        "#8. Write a code to remove the number 3 from the list [1, 2, 3, 4, 5].\n",
        "s= [1, 2, 3, 4, 5]\n",
        "s.remove(3)\n",
        "print(s)\n"
      ],
      "metadata": {
        "colab": {
          "base_uri": "https://localhost:8080/"
        },
        "id": "4KgO85_a9AHQ",
        "outputId": "49f23ecb-4a3d-4423-8199-873259915582"
      },
      "execution_count": 10,
      "outputs": [
        {
          "output_type": "stream",
          "name": "stdout",
          "text": [
            "[1, 2, 4, 5]\n"
          ]
        }
      ]
    },
    {
      "cell_type": "code",
      "source": [
        "#9. Write a code to access the second element in the list ['a', 'b', 'c', 'd'].\n",
        "s=['a', 'b', 'c', 'd']\n",
        "print(s[1])"
      ],
      "metadata": {
        "colab": {
          "base_uri": "https://localhost:8080/"
        },
        "id": "yAWHECXy9QXE",
        "outputId": "1726c5ac-2118-4f9e-abbc-ede14e90c761"
      },
      "execution_count": 13,
      "outputs": [
        {
          "output_type": "stream",
          "name": "stdout",
          "text": [
            "b\n"
          ]
        }
      ]
    },
    {
      "cell_type": "code",
      "source": [
        "#10. Write a code to reverse the list [10, 20, 30, 40, 50].\n",
        "s = [10, 20, 30, 40, 50]\n",
        "s.reverse()\n",
        "print(s)"
      ],
      "metadata": {
        "colab": {
          "base_uri": "https://localhost:8080/"
        },
        "id": "hN12hpjo9pLM",
        "outputId": "e7dae603-2544-4776-f4df-355d8015b090"
      },
      "execution_count": 20,
      "outputs": [
        {
          "output_type": "stream",
          "name": "stdout",
          "text": [
            "[50, 40, 30, 20, 10]\n"
          ]
        }
      ]
    },
    {
      "cell_type": "code",
      "source": [
        "# 11. Write a code to create a tuple with the elements 100, 200, 300 and print\n",
        "s = (100, 200, 300)\n",
        "print(s)"
      ],
      "metadata": {
        "colab": {
          "base_uri": "https://localhost:8080/"
        },
        "id": "RDpa5VCt-AfO",
        "outputId": "cb8dbc27-2344-4b92-c567-759ce0e08450"
      },
      "execution_count": 21,
      "outputs": [
        {
          "output_type": "stream",
          "name": "stdout",
          "text": [
            "(100, 200, 300)\n"
          ]
        }
      ]
    },
    {
      "cell_type": "code",
      "source": [
        "#12. Write a code to access the second-to-last element of the tuple ('red', 'green', 'blue', 'yellow').\n",
        "s = ('red', 'green', 'blue', 'yellow')\n",
        "print(s[-2])"
      ],
      "metadata": {
        "colab": {
          "base_uri": "https://localhost:8080/"
        },
        "id": "An6o5tnf-PBC",
        "outputId": "52b11bff-91f2-4113-f4a1-294e10ea93ea"
      },
      "execution_count": 25,
      "outputs": [
        {
          "output_type": "stream",
          "name": "stdout",
          "text": [
            "blue\n"
          ]
        }
      ]
    },
    {
      "cell_type": "code",
      "source": [
        "#13. Write a code to find the minimum number in the tuple (10, 20, 5, 15).\n",
        "s = (10, 20, 5, 15)\n",
        "print(min(s))"
      ],
      "metadata": {
        "colab": {
          "base_uri": "https://localhost:8080/"
        },
        "id": "m34TRJ7__GwJ",
        "outputId": "3b911de5-6c56-4cd0-b1fe-dcdf93cf2e79"
      },
      "execution_count": 27,
      "outputs": [
        {
          "output_type": "stream",
          "name": "stdout",
          "text": [
            "5\n"
          ]
        }
      ]
    },
    {
      "cell_type": "code",
      "source": [
        "#14. Write a code to find the index of the element \"cat\" in the tuple ('dog', 'cat', 'rabbit').\n",
        "s = ('dog', 'cat', 'rabbit')\n",
        "print(s.index('cat'))"
      ],
      "metadata": {
        "colab": {
          "base_uri": "https://localhost:8080/"
        },
        "id": "EAm-i6cg_XsK",
        "outputId": "c5162ab7-7475-49d6-8787-769fafe7cadf"
      },
      "execution_count": 28,
      "outputs": [
        {
          "output_type": "stream",
          "name": "stdout",
          "text": [
            "1\n"
          ]
        }
      ]
    },
    {
      "cell_type": "code",
      "source": [
        "#15. Write a code to create a tuple containing three different fruits and check if \"kiwi\" is in it.\n",
        "s = ('mango', 'apple', 'kiwi')\n",
        "print('kiwi' in s)"
      ],
      "metadata": {
        "colab": {
          "base_uri": "https://localhost:8080/"
        },
        "id": "WXoWup1b_516",
        "outputId": "f9437c15-9f11-437b-bb7c-ce07fda1088c"
      },
      "execution_count": 29,
      "outputs": [
        {
          "output_type": "stream",
          "name": "stdout",
          "text": [
            "True\n"
          ]
        }
      ]
    },
    {
      "cell_type": "code",
      "source": [
        "#16. Write a code to create a set with the elements 'a', 'b', 'c' and print it.\n",
        "s = {'a', 'b', 'c'}\n",
        "print(s)"
      ],
      "metadata": {
        "colab": {
          "base_uri": "https://localhost:8080/"
        },
        "id": "jRnuKuT4AQZW",
        "outputId": "14234170-83f7-499c-fbbf-b384a04b1028"
      },
      "execution_count": 30,
      "outputs": [
        {
          "output_type": "stream",
          "name": "stdout",
          "text": [
            "{'a', 'b', 'c'}\n"
          ]
        }
      ]
    },
    {
      "cell_type": "code",
      "source": [
        "#17. Write a code to clear all elements from the set {1, 2, 3, 4}.\n",
        "s = {1, 2, 3, 4}\n",
        "s.clear()\n",
        "print(s)"
      ],
      "metadata": {
        "colab": {
          "base_uri": "https://localhost:8080/"
        },
        "id": "dVeSqa9SCKZu",
        "outputId": "d064d7d0-21bc-47be-e7d7-6c4c966043f5"
      },
      "execution_count": 31,
      "outputs": [
        {
          "output_type": "stream",
          "name": "stdout",
          "text": [
            "set()\n"
          ]
        }
      ]
    },
    {
      "cell_type": "code",
      "source": [
        "#18. Write a code to remove the element 4 from the set {1, 2, 3, 4}.\n",
        "s = {1, 2, 3, 4}\n",
        "s.remove(4)\n",
        "print(s)\n"
      ],
      "metadata": {
        "colab": {
          "base_uri": "https://localhost:8080/"
        },
        "id": "_LHlvU5qCie-",
        "outputId": "a300afbc-4fb8-401b-842f-53b525b4569f"
      },
      "execution_count": 32,
      "outputs": [
        {
          "output_type": "stream",
          "name": "stdout",
          "text": [
            "{1, 2, 3}\n"
          ]
        }
      ]
    },
    {
      "cell_type": "code",
      "source": [
        "#19. Write a code to find the union of two sets {1, 2, 3} and {3, 4, 5}.\n",
        "a = {1, 2, 3}\n",
        "b = {3, 4, 5}\n",
        "print(a.union(b))\n"
      ],
      "metadata": {
        "colab": {
          "base_uri": "https://localhost:8080/"
        },
        "id": "uKIHNGZJCpvk",
        "outputId": "79528c89-0609-469d-9405-d27e14bea588"
      },
      "execution_count": 33,
      "outputs": [
        {
          "output_type": "stream",
          "name": "stdout",
          "text": [
            "{1, 2, 3, 4, 5}\n"
          ]
        }
      ]
    },
    {
      "cell_type": "code",
      "source": [
        "#20. Write a code to find the intersection of two sets {1, 2, 3} and {2, 3, 4}\n",
        "a = {1, 2, 3}\n",
        "b = {2, 3, 4}\n",
        "print(a.intersection(b))\n"
      ],
      "metadata": {
        "colab": {
          "base_uri": "https://localhost:8080/"
        },
        "id": "ez1HnFI5DEVS",
        "outputId": "a43851d3-056c-449c-948e-1a207db35658"
      },
      "execution_count": 34,
      "outputs": [
        {
          "output_type": "stream",
          "name": "stdout",
          "text": [
            "{2, 3}\n"
          ]
        }
      ]
    },
    {
      "cell_type": "code",
      "source": [
        "#21. Write a code to create a dictionary with the keys \"name\", \"age\", and \"city\", and print it.\n",
        "s = {\"name\": \"Sahil\", \"age\": 18, \"city\": \"Delhi\"}\n",
        "print(s)"
      ],
      "metadata": {
        "colab": {
          "base_uri": "https://localhost:8080/"
        },
        "id": "aITQfkgBDL8B",
        "outputId": "77d225a4-fb53-40ff-d371-ac1066433fda"
      },
      "execution_count": 35,
      "outputs": [
        {
          "output_type": "stream",
          "name": "stdout",
          "text": [
            "{'name': 'Sahil', 'age': 18, 'city': 'Delhi'}\n"
          ]
        }
      ]
    },
    {
      "cell_type": "code",
      "source": [
        "#22. Write a code to add a new key–value pair \"country\": \"USA\" to the dictionary {\"name\": \"John\", \"age\": 25}.\n",
        "s = {\"name\": \"John\", \"age\": 25}\n",
        "s[\"country\"] = \"USA\"\n",
        "print(s)"
      ],
      "metadata": {
        "colab": {
          "base_uri": "https://localhost:8080/"
        },
        "id": "yxF1cYmYDUwz",
        "outputId": "96403902-c199-44ed-de85-a17108dae72d"
      },
      "execution_count": 36,
      "outputs": [
        {
          "output_type": "stream",
          "name": "stdout",
          "text": [
            "{'name': 'John', 'age': 25, 'country': 'USA'}\n"
          ]
        }
      ]
    },
    {
      "cell_type": "code",
      "source": [
        "#23. Write a code to access the value associated with the key \"name\" in the dictionary {\"name\": \"Alice\", \"age\": 30}.\n",
        "s = {\"name\": \"Alice\", \"age\": 30}\n",
        "print(s[\"name\"])"
      ],
      "metadata": {
        "colab": {
          "base_uri": "https://localhost:8080/"
        },
        "id": "sEBsjL55Di87",
        "outputId": "5061fd5b-7ff7-477a-bcdb-b245e79f752c"
      },
      "execution_count": 37,
      "outputs": [
        {
          "output_type": "stream",
          "name": "stdout",
          "text": [
            "Alice\n"
          ]
        }
      ]
    },
    {
      "cell_type": "code",
      "source": [
        "#24. Write a code to remove the key \"age\" from the dictionary {\"name\": \"Bob\", \"age\": 22, \"city\": \"New York\"}.\n",
        "s = {\"name\": \"Bob\", \"age\": 22, \"city\": \"New York\"}\n",
        "s.pop(\"age\")\n",
        "print(s)"
      ],
      "metadata": {
        "colab": {
          "base_uri": "https://localhost:8080/"
        },
        "id": "ioWrwqtLD8m_",
        "outputId": "0bf22ff7-4e53-475c-ef5e-badc02072ae9"
      },
      "execution_count": 38,
      "outputs": [
        {
          "output_type": "stream",
          "name": "stdout",
          "text": [
            "{'name': 'Bob', 'city': 'New York'}\n"
          ]
        }
      ]
    },
    {
      "cell_type": "code",
      "source": [
        "#25. Write a code to check if the key \"city\" exists in the dictionary {\"name\": \"Alice\", \"city\": \"Paris\"}.\n",
        "s = {\"name\": \"Alice\", \"city\": \"Paris\"}\n",
        "print(\"city\" in s)"
      ],
      "metadata": {
        "colab": {
          "base_uri": "https://localhost:8080/"
        },
        "id": "aUi3yuFOEGd2",
        "outputId": "fa03a819-2d86-47ae-a885-8b9e06bea70d"
      },
      "execution_count": 39,
      "outputs": [
        {
          "output_type": "stream",
          "name": "stdout",
          "text": [
            "True\n"
          ]
        }
      ]
    },
    {
      "cell_type": "code",
      "source": [
        "#26. Write a code to create a list, a tuple, and a dictionary, and print them all.\n",
        "s = [1,2,3]\n",
        "t = (1,2,3)\n",
        "u = {\"name\": \"Sahil\", \"age\": 18, \"city\": \"Delhi\"}\n",
        "print(s)\n",
        "print(t)\n",
        "print(u)"
      ],
      "metadata": {
        "colab": {
          "base_uri": "https://localhost:8080/"
        },
        "id": "GpsTbVrJELbu",
        "outputId": "7688fe1a-957a-44d2-b489-25bc35dcc058"
      },
      "execution_count": 40,
      "outputs": [
        {
          "output_type": "stream",
          "name": "stdout",
          "text": [
            "[1, 2, 3]\n",
            "(1, 2, 3)\n",
            "{'name': 'Sahil', 'age': 18, 'city': 'Delhi'}\n"
          ]
        }
      ]
    },
    {
      "cell_type": "code",
      "source": [
        "#27. Write a code to create a list of 5 random numbers between 1 and 100, sort it in ascending order, and print the result.\n",
        "numbers = []\n",
        "for i in range(5):\n",
        "    num = int(input(\"Enter a number between 1 and 100: \"))\n",
        "    numbers.append(num)\n",
        "\n",
        "numbers.sort()\n",
        "print(numbers)\n"
      ],
      "metadata": {
        "colab": {
          "base_uri": "https://localhost:8080/"
        },
        "id": "fFqCBM38EUcw",
        "outputId": "ac2d8b47-0d3e-4372-bb0d-fd7f64e612c9"
      },
      "execution_count": 42,
      "outputs": [
        {
          "output_type": "stream",
          "name": "stdout",
          "text": [
            "Enter a number between 1 and 100: 49\n",
            "Enter a number between 1 and 100: 57\n",
            "Enter a number between 1 and 100: 37\n",
            "Enter a number between 1 and 100: 10\n",
            "Enter a number between 1 and 100: 56\n",
            "[10, 37, 49, 56, 57]\n"
          ]
        }
      ]
    },
    {
      "cell_type": "code",
      "source": [
        "#28. Write a code to create a list with strings and print the element at the third index.\n",
        "words = [\"apple\", \"banana\", \"cherry\", \"date\"]\n",
        "print(words[2])\n"
      ],
      "metadata": {
        "colab": {
          "base_uri": "https://localhost:8080/"
        },
        "id": "d5HBj9lXFU1K",
        "outputId": "c36726af-a4fc-4761-fe7c-b5182980a3e7"
      },
      "execution_count": 43,
      "outputs": [
        {
          "output_type": "stream",
          "name": "stdout",
          "text": [
            "cherry\n"
          ]
        }
      ]
    },
    {
      "cell_type": "code",
      "source": [
        "#29. Write a code to combine two dictionaries into one and print the result.\n",
        "a = {\"x\": 1, \"y\": 2}\n",
        "b = {\"z\": 3}\n",
        "a.update(b)\n",
        "print(a)"
      ],
      "metadata": {
        "colab": {
          "base_uri": "https://localhost:8080/"
        },
        "id": "gSPYqu3TFjim",
        "outputId": "8dc5b6c5-63b4-4f97-c5cd-c549baa70c65"
      },
      "execution_count": 44,
      "outputs": [
        {
          "output_type": "stream",
          "name": "stdout",
          "text": [
            "{'x': 1, 'y': 2, 'z': 3}\n"
          ]
        }
      ]
    },
    {
      "cell_type": "code",
      "source": [
        "#30. Write a code to convert a list of strings into a set.\n",
        "words = [\"apple\", \"banana\", \"apple\"]\n",
        "unique_words = set(words)\n",
        "print(unique_words)\n"
      ],
      "metadata": {
        "colab": {
          "base_uri": "https://localhost:8080/"
        },
        "id": "cFcVyvDNFuIH",
        "outputId": "3239fdbc-be49-4d17-cd0a-02d0ca8efe5f"
      },
      "execution_count": 45,
      "outputs": [
        {
          "output_type": "stream",
          "name": "stdout",
          "text": [
            "{'apple', 'banana'}\n"
          ]
        }
      ]
    }
  ]
}